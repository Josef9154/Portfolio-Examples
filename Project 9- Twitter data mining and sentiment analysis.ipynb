{
 "cells": [
  {
   "cell_type": "markdown",
   "metadata": {},
   "source": [
    "## Joseph Rochelle\n",
    "## DSC 550 Data mining\n",
    "## Week 4 Assignment (Text: Sentiment Analysis)"
   ]
  },
  {
   "cell_type": "code",
   "execution_count": 1,
   "metadata": {},
   "outputs": [],
   "source": [
    "#Importing libraries\n",
    "from sklearn.feature_extraction.text import CountVectorizer\n",
    "import pandas as pd\n",
    "import numpy as np\n",
    "import nltk\n",
    "\n",
    "#Setting Decimal point preference\n",
    "np.set_printoptions(precision =2)"
   ]
  },
  {
   "cell_type": "code",
   "execution_count": 2,
   "metadata": {},
   "outputs": [
    {
     "data": {
      "text/html": [
       "<div>\n",
       "<style scoped>\n",
       "    .dataframe tbody tr th:only-of-type {\n",
       "        vertical-align: middle;\n",
       "    }\n",
       "\n",
       "    .dataframe tbody tr th {\n",
       "        vertical-align: top;\n",
       "    }\n",
       "\n",
       "    .dataframe thead th {\n",
       "        text-align: right;\n",
       "    }\n",
       "</style>\n",
       "<table border=\"1\" class=\"dataframe\">\n",
       "  <thead>\n",
       "    <tr style=\"text-align: right;\">\n",
       "      <th></th>\n",
       "      <th>Day of Week</th>\n",
       "      <th>comments</th>\n",
       "    </tr>\n",
       "  </thead>\n",
       "  <tbody>\n",
       "    <tr>\n",
       "      <td>0</td>\n",
       "      <td>Monday</td>\n",
       "      <td>Hello, how are you?</td>\n",
       "    </tr>\n",
       "    <tr>\n",
       "      <td>1</td>\n",
       "      <td>Tuesday</td>\n",
       "      <td>Today is a good day!</td>\n",
       "    </tr>\n",
       "    <tr>\n",
       "      <td>2</td>\n",
       "      <td>Wednesday</td>\n",
       "      <td>It's my birthday so it's a really special day!</td>\n",
       "    </tr>\n",
       "    <tr>\n",
       "      <td>3</td>\n",
       "      <td>Thursday</td>\n",
       "      <td>Today is neither a good day or a bad day!</td>\n",
       "    </tr>\n",
       "    <tr>\n",
       "      <td>4</td>\n",
       "      <td>Friday</td>\n",
       "      <td>I'm having a bad day.</td>\n",
       "    </tr>\n",
       "    <tr>\n",
       "      <td>5</td>\n",
       "      <td>Saturday</td>\n",
       "      <td>There' s nothing special happening today.</td>\n",
       "    </tr>\n",
       "    <tr>\n",
       "      <td>6</td>\n",
       "      <td>Sunday</td>\n",
       "      <td>Today is a SUPER good day!</td>\n",
       "    </tr>\n",
       "  </tbody>\n",
       "</table>\n",
       "</div>"
      ],
      "text/plain": [
       "  Day of Week                                        comments\n",
       "0      Monday                             Hello, how are you?\n",
       "1     Tuesday                            Today is a good day!\n",
       "2   Wednesday  It's my birthday so it's a really special day!\n",
       "3    Thursday       Today is neither a good day or a bad day!\n",
       "4      Friday                           I'm having a bad day.\n",
       "5    Saturday       There' s nothing special happening today.\n",
       "6      Sunday                      Today is a SUPER good day!"
      ]
     },
     "execution_count": 2,
     "metadata": {},
     "output_type": "execute_result"
    }
   ],
   "source": [
    "#Reading data frame\n",
    "DailyDf= pd.read_csv('DailyComments.csv')  \n",
    "DailyDf"
   ]
  },
  {
   "cell_type": "markdown",
   "metadata": {},
   "source": [
    "**Manual Sentiment Analizer:**\n",
    "    \n",
    "The purpose of this section is to provide the reader with a means to count key words that are meaningful to the researcher. Based off the use cases, there may be a time where evaluating key words and phrases and providing meaning may be important. This section serves as a means to create a column for key words and counts then to summarize the data. "
   ]
  },
  {
   "cell_type": "code",
   "execution_count": 3,
   "metadata": {},
   "outputs": [],
   "source": [
    "corpus = DailyDf['comments']"
   ]
  },
  {
   "cell_type": "code",
   "execution_count": 4,
   "metadata": {},
   "outputs": [
    {
     "name": "stdout",
     "output_type": "stream",
     "text": [
      "\n",
      "vectorized words\n",
      "\n",
      "['are', 'bad', 'birthday', 'day', 'good', 'happening', 'having', 'hello', 'how', 'is', 'it', 'my', 'neither', 'nothing', 'or', 'really', 'so', 'special', 'super', 'there', 'today', 'you']\n",
      "\n",
      "Identify Feature Words - Matrix View\n",
      "\n",
      "[[1 0 0 0 0 0 0 1 1 0 0 0 0 0 0 0 0 0 0 0 0 1]\n",
      " [0 0 0 1 1 0 0 0 0 1 0 0 0 0 0 0 0 0 0 0 1 0]\n",
      " [0 0 1 1 0 0 0 0 0 0 2 1 0 0 0 1 1 1 0 0 0 0]\n",
      " [0 1 0 2 1 0 0 0 0 1 0 0 1 0 1 0 0 0 0 0 1 0]\n",
      " [0 1 0 1 0 0 1 0 0 0 0 0 0 0 0 0 0 0 0 0 0 0]\n",
      " [0 0 0 0 0 1 0 0 0 0 0 0 0 1 0 0 0 1 0 1 1 0]\n",
      " [0 0 0 1 1 0 0 0 0 1 0 0 0 0 0 0 0 0 1 0 1 0]]\n",
      "\n",
      "                                             text  positive1  positive2  \\\n",
      "0                             Hello, how are you?          0          0   \n",
      "1                            Today is a good day!          1          0   \n",
      "2  It's my birthday so it's a really special day!          0          1   \n",
      "3       Today is neither a good day or a bad day!          1          0   \n",
      "4                           I'm having a bad day.          0          0   \n",
      "5       There' s nothing special happening today.          0          1   \n",
      "6                      Today is a SUPER good day!          1          0   \n",
      "\n",
      "   negative  TotScore  TotCount  \n",
      "0         0         0         0  \n",
      "1         0         1         1  \n",
      "2         0         1         1  \n",
      "3         1         0         2  \n",
      "4         1        -1         1  \n",
      "5         0         1         1  \n",
      "6         0         1         1  \n",
      "\n",
      "Overall Score:   3\n",
      "Overall Count:   7\n",
      "Positive Sentiment %: 0.43\n"
     ]
    }
   ],
   "source": [
    "#Vectorizing the words within the corpus, which is our text only comments.\n",
    "\n",
    "vectorizer = CountVectorizer()\n",
    "X = vectorizer.fit_transform(corpus)\n",
    "print(\"\")\n",
    "print(\"vectorized words\")\n",
    "print(\"\")\n",
    "print(vectorizer.get_feature_names())\n",
    "print(\"\")\n",
    "print(\"Identify Feature Words - Matrix View\")\n",
    "print(\"\")\n",
    "print( X.toarray())\n",
    "\n",
    "\n",
    "#After turning the vectors into arrays we put it back into a data frame\n",
    "\n",
    "df = pd.DataFrame({'text' : corpus})\n",
    "\n",
    "#Check for positive words and negative words based off the schema established. I want to do linguistics connections like very bad super special later. \n",
    "#This methods counts the words in our text data frame, adding positive and negative columns. Then, calculated field column totallying.\n",
    "df['positive1'] = df.text.str.count('good')\n",
    "df['positive2']= df.text.str.count('special')\n",
    "df['negative'] = df.text.str.count('bad')\n",
    "df['TotScore'] = df.positive1 + df.positive2 - df.negative\n",
    "df['TotCount'] = df.positive1 + df.positive2 + df.negative\n",
    "\n",
    "print(\"\")\n",
    "print(df)\n",
    "\n",
    "# Printing the results in a data frame based off the scoring of sentiment analysis above\n",
    "Z = sum(df['TotScore'])\n",
    "Z1= sum(df['TotCount'])\n",
    "Z2 = Z/Z1\n",
    "\n",
    "\n",
    "print(\"\")\n",
    "print(\"Overall Score:  \",Z)\n",
    "print(\"Overall Count:  \",Z1)\n",
    "\n",
    "# The % of sentiment that was negative. \n",
    "#While the researcher does not have to use negative sentiment as the numerator to the total count of words as the denominator, this researcher sought to bring that option to the analysis. \n",
    "print(\"Positive Sentiment %:\"+\" {:.2f}\".format(Z2))\n"
   ]
  },
  {
   "cell_type": "markdown",
   "metadata": {},
   "source": [
    "**With NLK Sentiment Intensity Analyzer:** \n",
    "\n",
    "The purpose of this section is to shift from creating a manual sentiment library of words to an analyzer with a corpus alreayd established. "
   ]
  },
  {
   "cell_type": "code",
   "execution_count": 5,
   "metadata": {},
   "outputs": [],
   "source": [
    "from nltk.sentiment.vader import SentimentIntensityAnalyzer"
   ]
  },
  {
   "cell_type": "code",
   "execution_count": 6,
   "metadata": {},
   "outputs": [],
   "source": [
    "sentences =DailyDf['comments']"
   ]
  },
  {
   "cell_type": "code",
   "execution_count": 7,
   "metadata": {},
   "outputs": [],
   "source": [
    "from nltk import tokenize"
   ]
  },
  {
   "cell_type": "code",
   "execution_count": 16,
   "metadata": {},
   "outputs": [
    {
     "name": "stdout",
     "output_type": "stream",
     "text": [
      "Hello, how are you?\n",
      "compound: 0.0, neg: 0.0, neu: 1.0, pos: 0.0, \n",
      "Today is a good day!\n",
      "compound: 0.4926, neg: 0.0, neu: 0.484, pos: 0.516, \n",
      "It's my birthday so it's a really special day!\n",
      "compound: 0.5497, neg: 0.0, neu: 0.664, pos: 0.336, \n",
      "Today is neither a good day or a bad day!\n",
      "compound: -0.735, neg: 0.508, neu: 0.492, pos: 0.0, \n",
      "I'm having a bad day.\n",
      "compound: -0.5423, neg: 0.538, neu: 0.462, pos: 0.0, \n",
      "There' s nothing special happening today.\n",
      "compound: -0.3089, neg: 0.361, neu: 0.639, pos: 0.0, \n",
      "Today is a SUPER good day!\n",
      "compound: 0.8327, neg: 0.0, neu: 0.277, pos: 0.723, \n"
     ]
    }
   ],
   "source": [
    "sid = SentimentIntensityAnalyzer()\n",
    ">>> for sentence in sentences:\n",
    "...     print(sentence)\n",
    "...     ss = sid.polarity_scores(sentence)\n",
    "...     for k in sorted(ss):\n",
    "...         print('{0}: {1}, '.format(k, ss[k]), end='')\n",
    "...     print()"
   ]
  },
  {
   "cell_type": "markdown",
   "metadata": {},
   "source": [
    "**Examples of how to complete sentiment analysis on Twitter comments:**\n",
    "\n",
    "The purpose of this section is to examine the sentiment as they relate to some trending comments from twitter. "
   ]
  },
  {
   "cell_type": "code",
   "execution_count": 18,
   "metadata": {},
   "outputs": [],
   "source": [
    "import twitter\n",
    "\n",
    "## Removed Twitter login info while uploading to GitHub\n"
   ]
  },
  {
   "cell_type": "code",
   "execution_count": 19,
   "metadata": {
    "scrolled": true
   },
   "outputs": [
    {
     "data": {
      "text/plain": [
       "[Status(ID=1309981909699756039, ScreenName=robferdman, Created=Sat Sep 26 22:23:20 +0000 2020, Text='Breaking: New Body-Cam Footage Raises Questions About Breonna Taylor Death\\xa0Investigation https://t.co/PAZ4C9tPuK'),\n",
       " Status(ID=1310259004476592130, ScreenName=ava, Created=Sun Sep 27 16:44:24 +0000 2020, Text='BREAKING: “A Kentucky State Police ballistics report does not support Attorney General Daniel Cameron’s assertion t… https://t.co/8lE8VjKo7b'),\n",
       " Status(ID=1309932036795314176, ScreenName=robferdman, Created=Sat Sep 26 19:05:09 +0000 2020, Text='Breaking: The Only Witness Who Heard Police Announce Themselves at Breonna Taylor’s Door Changed His Story https://t.co/aigLNU4fkZ'),\n",
       " Status(ID=1310293057120669699, ScreenName=Pnut_Malika, Created=Sun Sep 27 18:59:43 +0000 2020, Text=\"RT @JoyAnnReid: The Breonna Taylor shooting and Kentucky AG Daniel Cameron’s behavior still don’t add up. New: Ballistics don't support Cam…\"),\n",
       " Status(ID=1310293050141347841, ScreenName=MarlyMawl, Created=Sun Sep 27 18:59:41 +0000 2020, Text='RT @tariqnasheed: Over a dozen witnesses confirmed that the race soldiers did NOT announce themselves when they lynched Breonna Taylor. The…'),\n",
       " Status(ID=1310293046139944965, ScreenName=DreyAmie, Created=Sun Sep 27 18:59:40 +0000 2020, Text=\"RT @JoyAnnReid: The Breonna Taylor shooting and Kentucky AG Daniel Cameron’s behavior still don’t add up. New: Ballistics don't support Cam…\"),\n",
       " Status(ID=1310293045158518784, ScreenName=Be_Dawn, Created=Sun Sep 27 18:59:40 +0000 2020, Text='RT @Phil_Lewis_: A Kentucky State Police ballistics report does not support Daniel Cameron’s assertion that Breonna Taylor’s boyfriend shot…'),\n",
       " Status(ID=1310293043237588992, ScreenName=AVD911, Created=Sun Sep 27 18:59:40 +0000 2020, Text='RT @USATODAY: A\\xa0Kentucky State Police ballistics report\\xa0does not support state Attorney General Daniel Cameron’s assertion that Breonna Tay…'),\n",
       " Status(ID=1310293041857454080, ScreenName=Hijo_de_oro, Created=Sun Sep 27 18:59:39 +0000 2020, Text='RT @ava: BREAKING: “A Kentucky State Police ballistics report does not support Attorney General Daniel Cameron’s assertion that Breonna Tay…'),\n",
       " Status(ID=1310293040846831616, ScreenName=althecor, Created=Sun Sep 27 18:59:39 +0000 2020, Text='RT @BernardKerik: It’s not his decision you moron, it’s the decision of the grand jury who actually reviewed all of the evidence. And the g…')]"
      ]
     },
     "execution_count": 19,
     "metadata": {},
     "output_type": "execute_result"
    }
   ],
   "source": [
    "tweets=api.GetSearch(term='Breonna Taylor', since=2016-11-21, count=10)\n",
    "tweets"
   ]
  },
  {
   "cell_type": "code",
   "execution_count": 20,
   "metadata": {},
   "outputs": [],
   "source": [
    "dfBreonnaTaylor_Tweets=pd.DataFrame (data=[tweet.text for tweet in tweets], columns = ['Text'])"
   ]
  },
  {
   "cell_type": "code",
   "execution_count": 21,
   "metadata": {},
   "outputs": [],
   "source": [
    "BTSentences= dfBreonnaTaylor_Tweets['Text']"
   ]
  },
  {
   "cell_type": "code",
   "execution_count": 22,
   "metadata": {},
   "outputs": [
    {
     "name": "stdout",
     "output_type": "stream",
     "text": [
      "Breaking: New Body-Cam Footage Raises Questions About Breonna Taylor Death Investigation https://t.co/PAZ4C9tPuK\n",
      "compound: -0.5994, neg: 0.262, neu: 0.738, pos: 0.0, \n",
      "BREAKING: “A Kentucky State Police ballistics report does not support Attorney General Daniel Cameron’s assertion t… https://t.co/8lE8VjKo7b\n",
      "compound: -0.3089, neg: 0.124, neu: 0.876, pos: 0.0, \n",
      "Breaking: The Only Witness Who Heard Police Announce Themselves at Breonna Taylor’s Door Changed His Story https://t.co/aigLNU4fkZ\n",
      "compound: 0.0, neg: 0.0, neu: 1.0, pos: 0.0, \n",
      "RT @JoyAnnReid: The Breonna Taylor shooting and Kentucky AG Daniel Cameron’s behavior still don’t add up. New: Ballistics don't support Cam…\n",
      "compound: -0.3089, neg: 0.101, neu: 0.899, pos: 0.0, \n",
      "RT @tariqnasheed: Over a dozen witnesses confirmed that the race soldiers did NOT announce themselves when they lynched Breonna Taylor. The…\n",
      "compound: 0.0, neg: 0.0, neu: 1.0, pos: 0.0, \n",
      "RT @JoyAnnReid: The Breonna Taylor shooting and Kentucky AG Daniel Cameron’s behavior still don’t add up. New: Ballistics don't support Cam…\n",
      "compound: -0.3089, neg: 0.101, neu: 0.899, pos: 0.0, \n",
      "RT @Phil_Lewis_: A Kentucky State Police ballistics report does not support Daniel Cameron’s assertion that Breonna Taylor’s boyfriend shot…\n",
      "compound: -0.3089, neg: 0.117, neu: 0.883, pos: 0.0, \n",
      "RT @USATODAY: A Kentucky State Police ballistics report does not support state Attorney General Daniel Cameron’s assertion that Breonna Tay…\n",
      "compound: -0.3089, neg: 0.111, neu: 0.889, pos: 0.0, \n",
      "RT @ava: BREAKING: “A Kentucky State Police ballistics report does not support Attorney General Daniel Cameron’s assertion that Breonna Tay…\n",
      "compound: -0.3089, neg: 0.106, neu: 0.894, pos: 0.0, \n",
      "RT @BernardKerik: It’s not his decision you moron, it’s the decision of the grand jury who actually reviewed all of the evidence. And the g…\n",
      "compound: -0.0516, neg: 0.11, neu: 0.788, pos: 0.103, \n"
     ]
    }
   ],
   "source": [
    "sid = SentimentIntensityAnalyzer()\n",
    ">>> for sentence in BTSentences:\n",
    "...     print(sentence)\n",
    "...     ss = sid.polarity_scores(sentence)\n",
    "...     for k in sorted(ss):\n",
    "...         print('{0}: {1}, '.format(k, ss[k]), end='')\n",
    "...     print()"
   ]
  },
  {
   "cell_type": "markdown",
   "metadata": {},
   "source": [
    "**Discussion:** \n",
    "\n",
    "As very much expected, there is a lot of social unrest toward Breonna Taylors death and sentiment here shows that. This exercise also was done without preprocessing and would be interesting to compare and contrast sentiment for these selected items to understand sentiment as an exercise in the future. "
   ]
  },
  {
   "cell_type": "code",
   "execution_count": null,
   "metadata": {},
   "outputs": [],
   "source": []
  }
 ],
 "metadata": {
  "kernelspec": {
   "display_name": "Python 3",
   "language": "python",
   "name": "python3"
  },
  "language_info": {
   "codemirror_mode": {
    "name": "ipython",
    "version": 3
   },
   "file_extension": ".py",
   "mimetype": "text/x-python",
   "name": "python",
   "nbconvert_exporter": "python",
   "pygments_lexer": "ipython3",
   "version": "3.7.4"
  }
 },
 "nbformat": 4,
 "nbformat_minor": 2
}
