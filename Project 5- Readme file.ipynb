{
 "cells": [
  {
   "cell_type": "markdown",
   "metadata": {},
   "source": [
    "## Project name: Predicting Covid Deaths\n",
    "\n",
    "**Description:** \n",
    "The purpose of this project is to predict the rate of deaths by cases presented with Covid. \n",
    "\n",
    "\n",
    "**Table of Contents:** \n",
    "    \n",
    "- Library\n",
    "- Dataframe\n",
    "- Data Cleaning\n",
    "- Histograms\n",
    "- Data Visualizations and descriptive statistics\n",
    "- CDF & PMF Analysis \n",
    "- Hypothesis testing \n",
    "- Correlation analysis\n",
    "- Linear Regression output & summary\n",
    "\n",
    "    \n",
    "    \n",
    "**Installation:** \n",
    "\n",
    "There are 6 libraries along with the Covid data set.  \n",
    "\n",
    "The data set is available here: https://github.com/nytimes/covid-19-data/blob/master/live/us-states.csv\n",
    "\n",
    "The libraries are as followed:\n",
    "\n",
    "- import pandas as pd\n",
    "- import numpy as np\n",
    "- import thinkstats2                   \n",
    "- from thinkstats2 import Cdf          \n",
    "- import thinkplot                     \n",
    "- import matplotlib.pyplot as plt \n",
    "- import statsmodels.api as sm\n",
    "\n",
    "**Please note:** You'll need to GitHub Branch Think Stats\n",
    "\n",
    "**Usage:** \n",
    "\n",
    "With the data file, the total size of this package is 110 KB.\n",
    "\n",
    "\n",
    "**Contributing:** \n",
    "\n",
    "This project is a multiple regression analysis that simply takes the target variable of continous data and examines other continous data. \n",
    "\n",
    "**Credits:** \n",
    "\n",
    "This data set has become of data science curriculum and previously on Kaggle.com, which is not longer available. The data set will be loaded into a data folder for others to use.\n",
    "\n",
    "**License:** \n",
    "\n",
    "TBD\n"
   ]
  }
 ],
 "metadata": {
  "kernelspec": {
   "display_name": "Python 3",
   "language": "python",
   "name": "python3"
  },
  "language_info": {
   "codemirror_mode": {
    "name": "ipython",
    "version": 3
   },
   "file_extension": ".py",
   "mimetype": "text/x-python",
   "name": "python",
   "nbconvert_exporter": "python",
   "pygments_lexer": "ipython3",
   "version": "3.7.4"
  }
 },
 "nbformat": 4,
 "nbformat_minor": 2
}
