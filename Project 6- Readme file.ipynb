{
 "cells": [
  {
   "cell_type": "markdown",
   "metadata": {},
   "source": [
    "## Project name: Predicting Baseball Attendance\n",
    "\n",
    "**Description:** \n",
    "The purpose of this project is to take attendance as the target variable and examine how promotional items like cap, shirt, fireworks, and bobbleheads predict future attendance. \n",
    "\n",
    "**Table of Contents:** \n",
    "\n",
    "- Library\n",
    "- Dataframe\n",
    "- EDA\n",
    "- Hot encoding of promotional items\n",
    "- Data Visualizations of promotional features\n",
    "- Linear Regression output & Summary\n",
    "\n",
    "\n",
    "**Installation:** \n",
    "There are 6 libraries along with the dogers CSV file that will be used for this analysis.  \n",
    "\n",
    "The libraries are as followed:\n",
    "\n",
    "- import pandas as pd\n",
    "- import seaborn as sns\n",
    "- from matplotlib import cm\n",
    "- import matplotlib.pyplot as plt\n",
    "- import pandas as pd\n",
    "- import numpy as np\n",
    "\n",
    "**Usage:** \n",
    "\n",
    "With the data file, the total size of this package is *135 KB*.\n",
    "\n",
    "**Contributing:** \n",
    "\n",
    "This project is a multiple regression analysis that simply takes the target variable of continous data and examines other binary & continous data. \n",
    "\n",
    "**Credits:** \n",
    "\n",
    "This data set has become of data science curriculum and previously on Kaggle.com, which is not longer available. The data set will be loaded into a data folder for others to use.\n",
    "\n",
    "**License:** \n",
    "\n",
    "TBD\n"
   ]
  }
 ],
 "metadata": {
  "kernelspec": {
   "display_name": "Python 3",
   "language": "python",
   "name": "python3"
  },
  "language_info": {
   "codemirror_mode": {
    "name": "ipython",
    "version": 3
   },
   "file_extension": ".py",
   "mimetype": "text/x-python",
   "name": "python",
   "nbconvert_exporter": "python",
   "pygments_lexer": "ipython3",
   "version": "3.7.4"
  }
 },
 "nbformat": 4,
 "nbformat_minor": 2
}
