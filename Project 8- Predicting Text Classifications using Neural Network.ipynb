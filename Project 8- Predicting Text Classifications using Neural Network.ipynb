{
 "cells": [
  {
   "cell_type": "markdown",
   "metadata": {},
   "source": [
    "## Machine Learning with Keras Neural Networking of categories, text mining, and parts of speech##"
   ]
  },
  {
   "cell_type": "markdown",
   "metadata": {},
   "source": [
    "Joseph Rochelle"
   ]
  },
  {
   "cell_type": "markdown",
   "metadata": {},
   "source": [
    "This notebook only includes Part 2 of Exercise 9.4.  I have separate files for Part 1 and Part 3.  I exported the cleaned text dataframe from my Part 1 notebook to a csv to be used in this notebook so that the cleaning code does not need to be re-run multiple times as it is time consuming.\n"
   ]
  },
  {
   "cell_type": "code",
   "execution_count": 1,
   "metadata": {},
   "outputs": [],
   "source": [
    "# import libraries\n",
    "import numpy as np\n",
    "import pandas as pd\n",
    "import random\n"
   ]
  },
  {
   "cell_type": "markdown",
   "metadata": {},
   "source": [
    "As discussed above, the below code imports the cleaned text dataframe with a parts-of-speech feature and the remainder of this notebook uses this cleaned dataframe."
   ]
  },
  {
   "cell_type": "code",
   "execution_count": 2,
   "metadata": {},
   "outputs": [],
   "source": [
    "# read random sample because file is too large 606475 lines \n",
    "# https://stackoverflow.com/questions/22258491/read-a-small-random-sample-from-a-big-csv-file-into-a-python-data-frame\n",
    "\n",
    "p = 0.0016  # .16% of the lines\n",
    "# if random from [0,1] interval is greater than 0.0016 the row will be skipped\n",
    "df = pd.read_csv('categComments.csv', \n",
    "         skiprows=lambda i: i>0 and random.random() > p\n",
    ")\n"
   ]
  },
  {
   "cell_type": "code",
   "execution_count": 5,
   "metadata": {},
   "outputs": [
    {
     "data": {
      "text/html": [
       "<div>\n",
       "<style scoped>\n",
       "    .dataframe tbody tr th:only-of-type {\n",
       "        vertical-align: middle;\n",
       "    }\n",
       "\n",
       "    .dataframe tbody tr th {\n",
       "        vertical-align: top;\n",
       "    }\n",
       "\n",
       "    .dataframe thead th {\n",
       "        text-align: right;\n",
       "    }\n",
       "</style>\n",
       "<table border=\"1\" class=\"dataframe\">\n",
       "  <thead>\n",
       "    <tr style=\"text-align: right;\">\n",
       "      <th></th>\n",
       "      <th>cat</th>\n",
       "      <th>txt</th>\n",
       "      <th>pos</th>\n",
       "    </tr>\n",
       "  </thead>\n",
       "  <tbody>\n",
       "    <tr>\n",
       "      <th>0</th>\n",
       "      <td>sports</td>\n",
       "      <td>['trent', 'brown', 'one', 'piec', 'rais', 'lot...</td>\n",
       "      <td>[[('trent', 'NN'), ('brown', 'IN'), ('one', 'C...</td>\n",
       "    </tr>\n",
       "    <tr>\n",
       "      <th>1</th>\n",
       "      <td>sports</td>\n",
       "      <td>['he', 'right', 'base', 'franchis', 'tag', 'nu...</td>\n",
       "      <td>[[('he', 'PRP'), ('right', 'VBD'), ('base', 'N...</td>\n",
       "    </tr>\n",
       "    <tr>\n",
       "      <th>2</th>\n",
       "      <td>sports</td>\n",
       "      <td>['agre', 'fuck']</td>\n",
       "      <td>[[('agre', 'NNS'), ('fuck', 'VBD')]]</td>\n",
       "    </tr>\n",
       "    <tr>\n",
       "      <th>3</th>\n",
       "      <td>sports</td>\n",
       "      <td>['swap', '1st', 'pat', 'approx', '2000', 'poin...</td>\n",
       "      <td>[[('swap', 'NN'), ('1st', 'CD'), ('pat', 'NN')...</td>\n",
       "    </tr>\n",
       "    <tr>\n",
       "      <th>4</th>\n",
       "      <td>sports</td>\n",
       "      <td>['I', 'dont', 'know', 'hand', 'Im', 'fulli', '...</td>\n",
       "      <td>[[('I', 'PRP'), ('dont', 'VBP'), ('know', 'JJ'...</td>\n",
       "    </tr>\n",
       "  </tbody>\n",
       "</table>\n",
       "</div>"
      ],
      "text/plain": [
       "      cat                                                txt  \\\n",
       "0  sports  ['trent', 'brown', 'one', 'piec', 'rais', 'lot...   \n",
       "1  sports  ['he', 'right', 'base', 'franchis', 'tag', 'nu...   \n",
       "2  sports                                   ['agre', 'fuck']   \n",
       "3  sports  ['swap', '1st', 'pat', 'approx', '2000', 'poin...   \n",
       "4  sports  ['I', 'dont', 'know', 'hand', 'Im', 'fulli', '...   \n",
       "\n",
       "                                                 pos  \n",
       "0  [[('trent', 'NN'), ('brown', 'IN'), ('one', 'C...  \n",
       "1  [[('he', 'PRP'), ('right', 'VBD'), ('base', 'N...  \n",
       "2               [[('agre', 'NNS'), ('fuck', 'VBD')]]  \n",
       "3  [[('swap', 'NN'), ('1st', 'CD'), ('pat', 'NN')...  \n",
       "4  [[('I', 'PRP'), ('dont', 'VBP'), ('know', 'JJ'...  "
      ]
     },
     "execution_count": 5,
     "metadata": {},
     "output_type": "execute_result"
    }
   ],
   "source": [
    "# look at what the imported dataframe looks like\n",
    "df.head()"
   ]
  },
  {
   "cell_type": "markdown",
   "metadata": {},
   "source": [
    "> Will use the part-of-speech feature for the modeling."
   ]
  },
  {
   "cell_type": "code",
   "execution_count": 61,
   "metadata": {},
   "outputs": [],
   "source": [
    "# separate into input and output columns (X variable for features and y for target variables)\n",
    "\n",
    "X = df['pos']\n",
    "y = df['cat']"
   ]
  },
  {
   "cell_type": "code",
   "execution_count": 62,
   "metadata": {},
   "outputs": [
    {
     "data": {
      "text/plain": [
       "0    [[('freeman', 'JJ'), ('pick', 'NN'), ('blitz',...\n",
       "1    [[('im', 'NN'), ('feel', 'NN'), ('still', 'RB'...\n",
       "2    [[('bleacher', 'DT'), ('report', 'NN'), ('must...\n",
       "3                                  [[('delet', 'NN')]]\n",
       "4    [[('wallpap', 'NN'), ('android', 'NN'), ('pan'...\n",
       "Name: pos, dtype: object"
      ]
     },
     "execution_count": 62,
     "metadata": {},
     "output_type": "execute_result"
    }
   ],
   "source": [
    "# check the feature input\n",
    "X.head()"
   ]
  },
  {
   "cell_type": "code",
   "execution_count": 63,
   "metadata": {},
   "outputs": [
    {
     "data": {
      "text/plain": [
       "array(['science_and_technology', 'science_and_technology',\n",
       "       'science_and_technology', 'science_and_technology',\n",
       "       'science_and_technology'], dtype=object)"
      ]
     },
     "execution_count": 63,
     "metadata": {},
     "output_type": "execute_result"
    }
   ],
   "source": [
    "# convert the target variable to an array\n",
    "y = np.array(df['cat'])\n",
    "y[10:15]"
   ]
  },
  {
   "cell_type": "code",
   "execution_count": 64,
   "metadata": {},
   "outputs": [],
   "source": [
    "# Create the tf-idf feature matrix\n",
    "from sklearn.feature_extraction.text import TfidfVectorizer\n",
    "tfidf = TfidfVectorizer(max_features = 3000)\n",
    "X = tfidf.fit_transform(df['pos'])"
   ]
  },
  {
   "cell_type": "code",
   "execution_count": 65,
   "metadata": {},
   "outputs": [],
   "source": [
    "# the TfidfVectorizer turned the feature variable to a sparse matrix, which causes problems in the model.\n",
    "# solve the error by converting the sparse matrix to a dense matrix\n",
    "X = X.todense()"
   ]
  },
  {
   "cell_type": "code",
   "execution_count": 66,
   "metadata": {},
   "outputs": [
    {
     "data": {
      "text/plain": [
       "(972, 3000)"
      ]
     },
     "execution_count": 66,
     "metadata": {},
     "output_type": "execute_result"
    }
   ],
   "source": [
    "X.shape"
   ]
  },
  {
   "cell_type": "code",
   "execution_count": 10,
   "metadata": {},
   "outputs": [],
   "source": [
    "# import keras libraries\n",
    "from keras.utils.np_utils import to_categorical\n",
    "from keras.preprocessing.text import Tokenizer\n",
    "from keras import models\n",
    "from keras import layers\n",
    "from keras.layers import Dense\n",
    "from keras.models import Sequential\n",
    "from keras.wrappers.scikit_learn import KerasClassifier"
   ]
  },
  {
   "cell_type": "code",
   "execution_count": 47,
   "metadata": {},
   "outputs": [],
   "source": [
    "# number of features outputted by the tfidf vectorizer\n",
    "nFeatures = 3000\n",
    "# number of categories in the target\n",
    "nClasses = 3"
   ]
  },
  {
   "cell_type": "code",
   "execution_count": 48,
   "metadata": {},
   "outputs": [],
   "source": [
    "# build the model \n",
    "def build_network():\n",
    "    \"\"\"\n",
    "    Create a function that returns a compiled neural network\n",
    "    \"\"\"\n",
    "    nn = Sequential()\n",
    "    nn.add(Dense(500, activation = 'relu', input_shape =(nFeatures,)))\n",
    "    nn.add(Dense(150, activation = 'relu'))\n",
    "    nn.add(Dense(nClasses, activation = 'softmax'))\n",
    "    nn.compile(loss = 'categorical_crossentropy',\n",
    "              optimizer = 'adam',\n",
    "              metrics = ['accuracy']\n",
    "              )\n",
    "    return nn"
   ]
  },
  {
   "cell_type": "markdown",
   "metadata": {},
   "source": [
    "> Train the Keras model and use validation split for splitting the data between training and validation."
   ]
  },
  {
   "cell_type": "code",
   "execution_count": 68,
   "metadata": {
    "scrolled": false
   },
   "outputs": [
    {
     "name": "stdout",
     "output_type": "stream",
     "text": [
      "Epoch 1/200\n",
      "6/6 [==============================] - 1s 131ms/step - loss: 1.0687 - accuracy: 0.4393 - val_loss: 0.9487 - val_accuracy: 0.9969\n",
      "Epoch 2/200\n",
      "6/6 [==============================] - 0s 25ms/step - loss: 0.9389 - accuracy: 0.5745 - val_loss: 0.7401 - val_accuracy: 1.0000\n",
      "Epoch 3/200\n",
      "6/6 [==============================] - 0s 22ms/step - loss: 0.7939 - accuracy: 0.5637 - val_loss: 0.5479 - val_accuracy: 1.0000\n",
      "Epoch 4/200\n",
      "6/6 [==============================] - 0s 22ms/step - loss: 0.6762 - accuracy: 0.6467 - val_loss: 0.4955 - val_accuracy: 0.9844\n",
      "Epoch 5/200\n",
      "6/6 [==============================] - 0s 22ms/step - loss: 0.5485 - accuracy: 0.8848 - val_loss: 0.5119 - val_accuracy: 0.8972\n",
      "Epoch 6/200\n",
      "6/6 [==============================] - 0s 27ms/step - loss: 0.4031 - accuracy: 0.9063 - val_loss: 0.4492 - val_accuracy: 0.8785\n",
      "Epoch 7/200\n",
      "6/6 [==============================] - 0s 25ms/step - loss: 0.2854 - accuracy: 0.9124 - val_loss: 0.4842 - val_accuracy: 0.7975\n",
      "Epoch 8/200\n",
      "6/6 [==============================] - 0s 22ms/step - loss: 0.2111 - accuracy: 0.9186 - val_loss: 0.4503 - val_accuracy: 0.8224\n",
      "Epoch 9/200\n",
      "6/6 [==============================] - 0s 22ms/step - loss: 0.1669 - accuracy: 0.9217 - val_loss: 0.4872 - val_accuracy: 0.7913\n",
      "Epoch 10/200\n",
      "6/6 [==============================] - 0s 25ms/step - loss: 0.1420 - accuracy: 0.9247 - val_loss: 0.5310 - val_accuracy: 0.7788\n",
      "Epoch 11/200\n",
      "6/6 [==============================] - 0s 23ms/step - loss: 0.1260 - accuracy: 0.9293 - val_loss: 0.6216 - val_accuracy: 0.7196\n",
      "Epoch 12/200\n",
      "6/6 [==============================] - 0s 29ms/step - loss: 0.1162 - accuracy: 0.9524 - val_loss: 0.5716 - val_accuracy: 0.7601\n",
      "Epoch 13/200\n",
      "6/6 [==============================] - 0s 26ms/step - loss: 0.1064 - accuracy: 0.9601 - val_loss: 0.5688 - val_accuracy: 0.7632\n",
      "Epoch 14/200\n",
      "6/6 [==============================] - 0s 20ms/step - loss: 0.0983 - accuracy: 0.9724 - val_loss: 0.4844 - val_accuracy: 0.8006\n",
      "Epoch 15/200\n",
      "6/6 [==============================] - 0s 24ms/step - loss: 0.0965 - accuracy: 0.9724 - val_loss: 0.3330 - val_accuracy: 0.8879\n",
      "Epoch 16/200\n",
      "6/6 [==============================] - 0s 23ms/step - loss: 0.0891 - accuracy: 0.9708 - val_loss: 0.4832 - val_accuracy: 0.8255\n",
      "Epoch 17/200\n",
      "6/6 [==============================] - 0s 21ms/step - loss: 0.0719 - accuracy: 0.9754 - val_loss: 0.8444 - val_accuracy: 0.6044\n",
      "Epoch 18/200\n",
      "6/6 [==============================] - 0s 37ms/step - loss: 0.0734 - accuracy: 0.9693 - val_loss: 0.8255 - val_accuracy: 0.6137\n",
      "Epoch 19/200\n",
      "6/6 [==============================] - 0s 25ms/step - loss: 0.0649 - accuracy: 0.9693 - val_loss: 0.5651 - val_accuracy: 0.7477\n",
      "Epoch 20/200\n",
      "6/6 [==============================] - 0s 23ms/step - loss: 0.0579 - accuracy: 0.9739 - val_loss: 0.4372 - val_accuracy: 0.8474\n",
      "Epoch 21/200\n",
      "6/6 [==============================] - 0s 24ms/step - loss: 0.0590 - accuracy: 0.9724 - val_loss: 0.5408 - val_accuracy: 0.8037\n",
      "Epoch 22/200\n",
      "6/6 [==============================] - 0s 22ms/step - loss: 0.0563 - accuracy: 0.9739 - val_loss: 0.9020 - val_accuracy: 0.6511\n",
      "Epoch 23/200\n",
      "6/6 [==============================] - 0s 38ms/step - loss: 0.0613 - accuracy: 0.9739 - val_loss: 0.8738 - val_accuracy: 0.6573\n",
      "Epoch 24/200\n",
      "6/6 [==============================] - 0s 27ms/step - loss: 0.0587 - accuracy: 0.9739 - val_loss: 0.5272 - val_accuracy: 0.7975\n",
      "Epoch 25/200\n",
      "6/6 [==============================] - 0s 23ms/step - loss: 0.0585 - accuracy: 0.9724 - val_loss: 0.4022 - val_accuracy: 0.8598\n",
      "Epoch 26/200\n",
      "6/6 [==============================] - 0s 22ms/step - loss: 0.0606 - accuracy: 0.9708 - val_loss: 0.5405 - val_accuracy: 0.7850\n",
      "Epoch 27/200\n",
      "6/6 [==============================] - 0s 22ms/step - loss: 0.0552 - accuracy: 0.9739 - val_loss: 0.9014 - val_accuracy: 0.6636\n",
      "Epoch 28/200\n",
      "6/6 [==============================] - 0s 22ms/step - loss: 0.0589 - accuracy: 0.9739 - val_loss: 0.8114 - val_accuracy: 0.6760\n",
      "Epoch 29/200\n",
      "6/6 [==============================] - 0s 23ms/step - loss: 0.0593 - accuracy: 0.9724 - val_loss: 0.4411 - val_accuracy: 0.8411\n",
      "Epoch 30/200\n",
      "6/6 [==============================] - 0s 27ms/step - loss: 0.0593 - accuracy: 0.9724 - val_loss: 0.4329 - val_accuracy: 0.8442\n",
      "Epoch 31/200\n",
      "6/6 [==============================] - 0s 22ms/step - loss: 0.0565 - accuracy: 0.9708 - val_loss: 0.5863 - val_accuracy: 0.7664\n",
      "Epoch 32/200\n",
      "6/6 [==============================] - 0s 26ms/step - loss: 0.0537 - accuracy: 0.9724 - val_loss: 0.7721 - val_accuracy: 0.6822\n",
      "Epoch 33/200\n",
      "6/6 [==============================] - 0s 24ms/step - loss: 0.0524 - accuracy: 0.9739 - val_loss: 0.7299 - val_accuracy: 0.7040\n",
      "Epoch 34/200\n",
      "6/6 [==============================] - 0s 23ms/step - loss: 0.0515 - accuracy: 0.9739 - val_loss: 0.6206 - val_accuracy: 0.7632\n",
      "Epoch 35/200\n",
      "6/6 [==============================] - 0s 27ms/step - loss: 0.0521 - accuracy: 0.9708 - val_loss: 0.5586 - val_accuracy: 0.8100\n",
      "Epoch 36/200\n",
      "6/6 [==============================] - 0s 27ms/step - loss: 0.0514 - accuracy: 0.9708 - val_loss: 0.6330 - val_accuracy: 0.7632\n",
      "Epoch 37/200\n",
      "6/6 [==============================] - 0s 20ms/step - loss: 0.0513 - accuracy: 0.9739 - val_loss: 0.7199 - val_accuracy: 0.7165\n",
      "Epoch 38/200\n",
      "6/6 [==============================] - 0s 19ms/step - loss: 0.0549 - accuracy: 0.9662 - val_loss: 0.7570 - val_accuracy: 0.6449\n",
      "Epoch 39/200\n",
      "6/6 [==============================] - 0s 19ms/step - loss: 0.0524 - accuracy: 0.9677 - val_loss: 0.5978 - val_accuracy: 0.7819\n",
      "Epoch 40/200\n",
      "6/6 [==============================] - 0s 22ms/step - loss: 0.0528 - accuracy: 0.9739 - val_loss: 0.8802 - val_accuracy: 0.6106\n",
      "Epoch 41/200\n",
      "6/6 [==============================] - 0s 26ms/step - loss: 0.0534 - accuracy: 0.9693 - val_loss: 0.8498 - val_accuracy: 0.6137\n",
      "Epoch 42/200\n",
      "6/6 [==============================] - 0s 28ms/step - loss: 0.0520 - accuracy: 0.9739 - val_loss: 0.7118 - val_accuracy: 0.7196\n",
      "Epoch 43/200\n",
      "6/6 [==============================] - 0s 24ms/step - loss: 0.0541 - accuracy: 0.9724 - val_loss: 0.5614 - val_accuracy: 0.7975\n",
      "Epoch 44/200\n",
      "6/6 [==============================] - 0s 30ms/step - loss: 0.0535 - accuracy: 0.9724 - val_loss: 0.6647 - val_accuracy: 0.7414\n",
      "Epoch 45/200\n",
      "6/6 [==============================] - 0s 26ms/step - loss: 0.0510 - accuracy: 0.9739 - val_loss: 0.7311 - val_accuracy: 0.7009\n",
      "Epoch 46/200\n",
      "6/6 [==============================] - 0s 25ms/step - loss: 0.0512 - accuracy: 0.9739 - val_loss: 0.7781 - val_accuracy: 0.6854\n",
      "Epoch 47/200\n",
      "6/6 [==============================] - 0s 26ms/step - loss: 0.0525 - accuracy: 0.9739 - val_loss: 0.6964 - val_accuracy: 0.7321\n",
      "Epoch 48/200\n",
      "6/6 [==============================] - 0s 36ms/step - loss: 0.0519 - accuracy: 0.9708 - val_loss: 0.4301 - val_accuracy: 0.8536\n",
      "Epoch 49/200\n",
      "6/6 [==============================] - 0s 26ms/step - loss: 0.0539 - accuracy: 0.9724 - val_loss: 0.4266 - val_accuracy: 0.8536\n",
      "Epoch 50/200\n",
      "6/6 [==============================] - 0s 25ms/step - loss: 0.0543 - accuracy: 0.9724 - val_loss: 0.4169 - val_accuracy: 0.8536\n",
      "Epoch 51/200\n",
      "6/6 [==============================] - 0s 24ms/step - loss: 0.0524 - accuracy: 0.9724 - val_loss: 0.5997 - val_accuracy: 0.7882\n",
      "Epoch 52/200\n",
      "6/6 [==============================] - 0s 27ms/step - loss: 0.0513 - accuracy: 0.9693 - val_loss: 0.7399 - val_accuracy: 0.6604\n",
      "Epoch 53/200\n",
      "6/6 [==============================] - 0s 25ms/step - loss: 0.0517 - accuracy: 0.9677 - val_loss: 0.7514 - val_accuracy: 0.7103\n",
      "Epoch 54/200\n",
      "6/6 [==============================] - 0s 26ms/step - loss: 0.0509 - accuracy: 0.9739 - val_loss: 0.6942 - val_accuracy: 0.7321\n",
      "Epoch 55/200\n",
      "6/6 [==============================] - 0s 25ms/step - loss: 0.0505 - accuracy: 0.9708 - val_loss: 0.6043 - val_accuracy: 0.7944\n",
      "Epoch 56/200\n",
      "6/6 [==============================] - 0s 25ms/step - loss: 0.0523 - accuracy: 0.9724 - val_loss: 0.9453 - val_accuracy: 0.6667\n",
      "Epoch 57/200\n",
      "6/6 [==============================] - 0s 24ms/step - loss: 0.0572 - accuracy: 0.9739 - val_loss: 1.0433 - val_accuracy: 0.5981\n",
      "Epoch 58/200\n",
      "6/6 [==============================] - 0s 28ms/step - loss: 0.0524 - accuracy: 0.9693 - val_loss: 0.4871 - val_accuracy: 0.8411\n",
      "Epoch 59/200\n",
      "6/6 [==============================] - 0s 24ms/step - loss: 0.0579 - accuracy: 0.9724 - val_loss: 0.4032 - val_accuracy: 0.8629\n",
      "Epoch 60/200\n",
      "6/6 [==============================] - 0s 26ms/step - loss: 0.0586 - accuracy: 0.9724 - val_loss: 0.5242 - val_accuracy: 0.8287\n",
      "Epoch 61/200\n",
      "6/6 [==============================] - 0s 24ms/step - loss: 0.0523 - accuracy: 0.9739 - val_loss: 0.7906 - val_accuracy: 0.6417\n",
      "Epoch 62/200\n",
      "6/6 [==============================] - 0s 22ms/step - loss: 0.0515 - accuracy: 0.9693 - val_loss: 0.9368 - val_accuracy: 0.6137\n",
      "Epoch 63/200\n",
      "6/6 [==============================] - 0s 24ms/step - loss: 0.0523 - accuracy: 0.9647 - val_loss: 0.7865 - val_accuracy: 0.6916\n",
      "Epoch 64/200\n",
      "6/6 [==============================] - 0s 26ms/step - loss: 0.0540 - accuracy: 0.9708 - val_loss: 0.4935 - val_accuracy: 0.8349\n",
      "Epoch 65/200\n",
      "6/6 [==============================] - 0s 23ms/step - loss: 0.0561 - accuracy: 0.9724 - val_loss: 0.5557 - val_accuracy: 0.8069\n",
      "Epoch 66/200\n",
      "6/6 [==============================] - 0s 22ms/step - loss: 0.0520 - accuracy: 0.9724 - val_loss: 0.7340 - val_accuracy: 0.7196\n",
      "Epoch 67/200\n",
      "6/6 [==============================] - 0s 22ms/step - loss: 0.0502 - accuracy: 0.9785 - val_loss: 0.8882 - val_accuracy: 0.6199\n",
      "Epoch 68/200\n",
      "6/6 [==============================] - 0s 23ms/step - loss: 0.0527 - accuracy: 0.9693 - val_loss: 0.9986 - val_accuracy: 0.6075\n",
      "Epoch 69/200\n",
      "6/6 [==============================] - 0s 24ms/step - loss: 0.0533 - accuracy: 0.9693 - val_loss: 0.8035 - val_accuracy: 0.6324\n",
      "Epoch 70/200\n",
      "6/6 [==============================] - 0s 28ms/step - loss: 0.0498 - accuracy: 0.9724 - val_loss: 0.5826 - val_accuracy: 0.7913\n",
      "Epoch 71/200\n",
      "6/6 [==============================] - 0s 23ms/step - loss: 0.0529 - accuracy: 0.9724 - val_loss: 0.5535 - val_accuracy: 0.8037\n",
      "Epoch 72/200\n",
      "6/6 [==============================] - 0s 23ms/step - loss: 0.0519 - accuracy: 0.9724 - val_loss: 0.6688 - val_accuracy: 0.7414\n",
      "Epoch 73/200\n",
      "6/6 [==============================] - 0s 25ms/step - loss: 0.0517 - accuracy: 0.9739 - val_loss: 0.8486 - val_accuracy: 0.6760\n",
      "Epoch 74/200\n",
      "6/6 [==============================] - 0s 21ms/step - loss: 0.0515 - accuracy: 0.9739 - val_loss: 0.7113 - val_accuracy: 0.7290\n",
      "Epoch 75/200\n",
      "6/6 [==============================] - 0s 26ms/step - loss: 0.0533 - accuracy: 0.9724 - val_loss: 0.4476 - val_accuracy: 0.8442\n",
      "Epoch 76/200\n",
      "6/6 [==============================] - 0s 29ms/step - loss: 0.0592 - accuracy: 0.9724 - val_loss: 0.5026 - val_accuracy: 0.8349\n",
      "Epoch 77/200\n",
      "6/6 [==============================] - 0s 23ms/step - loss: 0.0536 - accuracy: 0.9724 - val_loss: 0.7493 - val_accuracy: 0.7196\n",
      "Epoch 78/200\n",
      "6/6 [==============================] - 0s 23ms/step - loss: 0.0519 - accuracy: 0.9724 - val_loss: 1.0126 - val_accuracy: 0.5950\n",
      "Epoch 79/200\n",
      "6/6 [==============================] - 0s 23ms/step - loss: 0.0536 - accuracy: 0.9693 - val_loss: 1.0077 - val_accuracy: 0.5950\n",
      "Epoch 80/200\n",
      "6/6 [==============================] - 0s 23ms/step - loss: 0.0541 - accuracy: 0.9693 - val_loss: 1.0633 - val_accuracy: 0.5826\n",
      "Epoch 81/200\n",
      "6/6 [==============================] - 0s 27ms/step - loss: 0.0533 - accuracy: 0.9693 - val_loss: 0.8883 - val_accuracy: 0.6199\n",
      "Epoch 82/200\n",
      "6/6 [==============================] - 0s 25ms/step - loss: 0.0513 - accuracy: 0.9693 - val_loss: 0.7398 - val_accuracy: 0.7259\n",
      "Epoch 83/200\n",
      "6/6 [==============================] - 0s 23ms/step - loss: 0.0505 - accuracy: 0.9724 - val_loss: 0.7297 - val_accuracy: 0.7259\n",
      "Epoch 84/200\n",
      "6/6 [==============================] - 0s 21ms/step - loss: 0.0502 - accuracy: 0.9708 - val_loss: 0.8316 - val_accuracy: 0.6262\n",
      "Epoch 85/200\n",
      "6/6 [==============================] - 0s 22ms/step - loss: 0.0516 - accuracy: 0.9693 - val_loss: 0.8249 - val_accuracy: 0.6324\n",
      "Epoch 86/200\n",
      "6/6 [==============================] - 0s 23ms/step - loss: 0.0514 - accuracy: 0.9693 - val_loss: 0.6936 - val_accuracy: 0.7445\n",
      "Epoch 87/200\n",
      "6/6 [==============================] - 0s 26ms/step - loss: 0.0548 - accuracy: 0.9724 - val_loss: 0.4780 - val_accuracy: 0.8411\n",
      "Epoch 88/200\n",
      "6/6 [==============================] - 0s 32ms/step - loss: 0.0553 - accuracy: 0.9724 - val_loss: 0.6315 - val_accuracy: 0.7290\n",
      "Epoch 89/200\n",
      "6/6 [==============================] - 0s 22ms/step - loss: 0.0522 - accuracy: 0.9693 - val_loss: 0.7358 - val_accuracy: 0.6822\n",
      "Epoch 90/200\n",
      "6/6 [==============================] - 0s 25ms/step - loss: 0.0517 - accuracy: 0.9708 - val_loss: 0.7620 - val_accuracy: 0.7259\n",
      "Epoch 91/200\n",
      "6/6 [==============================] - 0s 25ms/step - loss: 0.0524 - accuracy: 0.9724 - val_loss: 0.7066 - val_accuracy: 0.7445\n",
      "Epoch 92/200\n",
      "6/6 [==============================] - 0s 26ms/step - loss: 0.0523 - accuracy: 0.9693 - val_loss: 0.6950 - val_accuracy: 0.7352\n",
      "Epoch 93/200\n",
      "6/6 [==============================] - 0s 26ms/step - loss: 0.0522 - accuracy: 0.9739 - val_loss: 0.7192 - val_accuracy: 0.7196\n",
      "Epoch 94/200\n",
      "6/6 [==============================] - 0s 24ms/step - loss: 0.0519 - accuracy: 0.9708 - val_loss: 0.7363 - val_accuracy: 0.7103\n",
      "Epoch 95/200\n",
      "6/6 [==============================] - 0s 23ms/step - loss: 0.0517 - accuracy: 0.9739 - val_loss: 0.8441 - val_accuracy: 0.6822\n",
      "Epoch 96/200\n",
      "6/6 [==============================] - 0s 22ms/step - loss: 0.0526 - accuracy: 0.9739 - val_loss: 0.9120 - val_accuracy: 0.6168\n",
      "Epoch 97/200\n",
      "6/6 [==============================] - 0s 22ms/step - loss: 0.0522 - accuracy: 0.9693 - val_loss: 0.8101 - val_accuracy: 0.6355\n",
      "Epoch 98/200\n",
      "6/6 [==============================] - 0s 22ms/step - loss: 0.0517 - accuracy: 0.9647 - val_loss: 0.6451 - val_accuracy: 0.7664\n",
      "Epoch 99/200\n",
      "6/6 [==============================] - 0s 29ms/step - loss: 0.0504 - accuracy: 0.9724 - val_loss: 0.8393 - val_accuracy: 0.6791\n",
      "Epoch 100/200\n",
      "6/6 [==============================] - 0s 23ms/step - loss: 0.0506 - accuracy: 0.9739 - val_loss: 0.8446 - val_accuracy: 0.6885\n",
      "Epoch 101/200\n",
      "6/6 [==============================] - 0s 26ms/step - loss: 0.0526 - accuracy: 0.9724 - val_loss: 0.5788 - val_accuracy: 0.7819\n",
      "Epoch 102/200\n",
      "6/6 [==============================] - 0s 23ms/step - loss: 0.0553 - accuracy: 0.9724 - val_loss: 0.6452 - val_accuracy: 0.7601\n",
      "Epoch 103/200\n",
      "6/6 [==============================] - 0s 24ms/step - loss: 0.0515 - accuracy: 0.9724 - val_loss: 0.9524 - val_accuracy: 0.6075\n",
      "Epoch 104/200\n",
      "6/6 [==============================] - 0s 24ms/step - loss: 0.0552 - accuracy: 0.9693 - val_loss: 1.1439 - val_accuracy: 0.5670\n",
      "Epoch 105/200\n",
      "6/6 [==============================] - 0s 30ms/step - loss: 0.0518 - accuracy: 0.9770 - val_loss: 0.6208 - val_accuracy: 0.7695\n",
      "Epoch 106/200\n",
      "6/6 [==============================] - 0s 23ms/step - loss: 0.0531 - accuracy: 0.9724 - val_loss: 0.5878 - val_accuracy: 0.7819\n",
      "Epoch 107/200\n",
      "6/6 [==============================] - 0s 22ms/step - loss: 0.0534 - accuracy: 0.9724 - val_loss: 0.7069 - val_accuracy: 0.7352\n",
      "Epoch 108/200\n",
      "6/6 [==============================] - 0s 27ms/step - loss: 0.0526 - accuracy: 0.9724 - val_loss: 0.8874 - val_accuracy: 0.6667\n",
      "Epoch 109/200\n",
      "6/6 [==============================] - 0s 24ms/step - loss: 0.0512 - accuracy: 0.9739 - val_loss: 0.9410 - val_accuracy: 0.6573\n",
      "Epoch 110/200\n",
      "6/6 [==============================] - 0s 23ms/step - loss: 0.0512 - accuracy: 0.9739 - val_loss: 0.8818 - val_accuracy: 0.6698\n",
      "Epoch 111/200\n",
      "6/6 [==============================] - 0s 28ms/step - loss: 0.0508 - accuracy: 0.9739 - val_loss: 0.7516 - val_accuracy: 0.6885\n",
      "Epoch 112/200\n",
      "6/6 [==============================] - 0s 23ms/step - loss: 0.0502 - accuracy: 0.9739 - val_loss: 0.5021 - val_accuracy: 0.8380\n",
      "Epoch 113/200\n",
      "6/6 [==============================] - 0s 24ms/step - loss: 0.0513 - accuracy: 0.9724 - val_loss: 0.4600 - val_accuracy: 0.8536\n",
      "Epoch 114/200\n",
      "6/6 [==============================] - 0s 22ms/step - loss: 0.0513 - accuracy: 0.9724 - val_loss: 0.5229 - val_accuracy: 0.8193\n",
      "Epoch 115/200\n",
      "6/6 [==============================] - 0s 25ms/step - loss: 0.0507 - accuracy: 0.9739 - val_loss: 0.5763 - val_accuracy: 0.7850\n",
      "Epoch 116/200\n",
      "6/6 [==============================] - 0s 26ms/step - loss: 0.0504 - accuracy: 0.9739 - val_loss: 0.5678 - val_accuracy: 0.7850\n",
      "Epoch 117/200\n"
     ]
    },
    {
     "name": "stdout",
     "output_type": "stream",
     "text": [
      "6/6 [==============================] - 0s 25ms/step - loss: 0.0505 - accuracy: 0.9739 - val_loss: 0.5325 - val_accuracy: 0.8037\n",
      "Epoch 118/200\n",
      "6/6 [==============================] - 0s 23ms/step - loss: 0.0519 - accuracy: 0.9739 - val_loss: 0.4485 - val_accuracy: 0.8567\n",
      "Epoch 119/200\n",
      "6/6 [==============================] - 0s 23ms/step - loss: 0.0536 - accuracy: 0.9724 - val_loss: 0.5397 - val_accuracy: 0.8131\n",
      "Epoch 120/200\n",
      "6/6 [==============================] - 0s 23ms/step - loss: 0.0510 - accuracy: 0.9724 - val_loss: 0.7119 - val_accuracy: 0.7259\n",
      "Epoch 121/200\n",
      "6/6 [==============================] - 0s 24ms/step - loss: 0.0507 - accuracy: 0.9693 - val_loss: 0.9201 - val_accuracy: 0.6168\n",
      "Epoch 122/200\n",
      "6/6 [==============================] - 0s 28ms/step - loss: 0.0521 - accuracy: 0.9693 - val_loss: 0.9007 - val_accuracy: 0.6231\n",
      "Epoch 123/200\n",
      "6/6 [==============================] - 0s 28ms/step - loss: 0.0522 - accuracy: 0.9693 - val_loss: 0.8044 - val_accuracy: 0.6480\n",
      "Epoch 124/200\n",
      "6/6 [==============================] - 0s 23ms/step - loss: 0.0504 - accuracy: 0.9693 - val_loss: 0.8975 - val_accuracy: 0.6231\n",
      "Epoch 125/200\n",
      "6/6 [==============================] - 0s 21ms/step - loss: 0.0511 - accuracy: 0.9739 - val_loss: 0.8038 - val_accuracy: 0.6947\n",
      "Epoch 126/200\n",
      "6/6 [==============================] - 0s 23ms/step - loss: 0.0498 - accuracy: 0.9754 - val_loss: 0.6634 - val_accuracy: 0.7570\n",
      "Epoch 127/200\n",
      "6/6 [==============================] - 0s 23ms/step - loss: 0.0512 - accuracy: 0.9754 - val_loss: 0.5355 - val_accuracy: 0.8131\n",
      "Epoch 128/200\n",
      "6/6 [==============================] - 0s 30ms/step - loss: 0.0554 - accuracy: 0.9724 - val_loss: 0.5339 - val_accuracy: 0.8162\n",
      "Epoch 129/200\n",
      "6/6 [==============================] - 0s 24ms/step - loss: 0.0537 - accuracy: 0.9739 - val_loss: 0.6635 - val_accuracy: 0.7508\n",
      "Epoch 130/200\n",
      "6/6 [==============================] - 0s 22ms/step - loss: 0.0518 - accuracy: 0.9724 - val_loss: 0.7507 - val_accuracy: 0.7103\n",
      "Epoch 131/200\n",
      "6/6 [==============================] - 0s 26ms/step - loss: 0.0506 - accuracy: 0.9739 - val_loss: 0.5994 - val_accuracy: 0.7819\n",
      "Epoch 132/200\n",
      "6/6 [==============================] - 0s 24ms/step - loss: 0.0513 - accuracy: 0.9739 - val_loss: 0.5571 - val_accuracy: 0.7975\n",
      "Epoch 133/200\n",
      "6/6 [==============================] - 0s 23ms/step - loss: 0.0508 - accuracy: 0.9739 - val_loss: 0.5916 - val_accuracy: 0.7882\n",
      "Epoch 134/200\n",
      "6/6 [==============================] - 0s 29ms/step - loss: 0.0506 - accuracy: 0.9739 - val_loss: 0.6375 - val_accuracy: 0.7726\n",
      "Epoch 135/200\n",
      "6/6 [==============================] - 0s 29ms/step - loss: 0.0497 - accuracy: 0.9739 - val_loss: 0.7703 - val_accuracy: 0.7134\n",
      "Epoch 136/200\n",
      "6/6 [==============================] - 0s 23ms/step - loss: 0.0539 - accuracy: 0.9677 - val_loss: 0.8133 - val_accuracy: 0.6511\n",
      "Epoch 137/200\n",
      "6/6 [==============================] - 0s 25ms/step - loss: 0.0505 - accuracy: 0.9754 - val_loss: 0.4520 - val_accuracy: 0.8536\n",
      "Epoch 138/200\n",
      "6/6 [==============================] - 0s 26ms/step - loss: 0.0531 - accuracy: 0.9724 - val_loss: 0.3940 - val_accuracy: 0.8660\n",
      "Epoch 139/200\n",
      "6/6 [==============================] - 0s 28ms/step - loss: 0.0531 - accuracy: 0.9724 - val_loss: 0.4890 - val_accuracy: 0.8380\n",
      "Epoch 140/200\n",
      "6/6 [==============================] - 0s 28ms/step - loss: 0.0523 - accuracy: 0.9724 - val_loss: 0.5095 - val_accuracy: 0.8349\n",
      "Epoch 141/200\n",
      "6/6 [==============================] - 0s 25ms/step - loss: 0.0514 - accuracy: 0.9724 - val_loss: 0.6622 - val_accuracy: 0.7570\n",
      "Epoch 142/200\n",
      "6/6 [==============================] - 0s 26ms/step - loss: 0.0528 - accuracy: 0.9677 - val_loss: 0.9378 - val_accuracy: 0.6293\n",
      "Epoch 143/200\n",
      "6/6 [==============================] - 0s 24ms/step - loss: 0.0543 - accuracy: 0.9693 - val_loss: 0.9460 - val_accuracy: 0.6262\n",
      "Epoch 144/200\n",
      "6/6 [==============================] - 0s 24ms/step - loss: 0.0532 - accuracy: 0.9693 - val_loss: 0.8561 - val_accuracy: 0.6480\n",
      "Epoch 145/200\n",
      "6/6 [==============================] - 0s 29ms/step - loss: 0.0519 - accuracy: 0.9693 - val_loss: 0.7026 - val_accuracy: 0.7040\n",
      "Epoch 146/200\n",
      "6/6 [==============================] - 0s 23ms/step - loss: 0.0536 - accuracy: 0.9662 - val_loss: 0.5448 - val_accuracy: 0.8349\n",
      "Epoch 147/200\n",
      "6/6 [==============================] - 0s 23ms/step - loss: 0.0587 - accuracy: 0.9662 - val_loss: 0.5706 - val_accuracy: 0.7601\n",
      "Epoch 148/200\n",
      "6/6 [==============================] - 0s 23ms/step - loss: 0.0592 - accuracy: 0.9601 - val_loss: 0.6086 - val_accuracy: 0.7508\n",
      "Epoch 149/200\n",
      "6/6 [==============================] - 0s 24ms/step - loss: 0.0552 - accuracy: 0.9616 - val_loss: 0.6872 - val_accuracy: 0.7570\n",
      "Epoch 150/200\n",
      "6/6 [==============================] - 0s 25ms/step - loss: 0.0519 - accuracy: 0.9739 - val_loss: 0.6775 - val_accuracy: 0.7539\n",
      "Epoch 151/200\n",
      "6/6 [==============================] - 0s 26ms/step - loss: 0.0513 - accuracy: 0.9739 - val_loss: 0.5863 - val_accuracy: 0.8006\n",
      "Epoch 152/200\n",
      "6/6 [==============================] - 0s 23ms/step - loss: 0.0509 - accuracy: 0.9739 - val_loss: 0.6506 - val_accuracy: 0.7601\n",
      "Epoch 153/200\n",
      "6/6 [==============================] - 0s 23ms/step - loss: 0.0510 - accuracy: 0.9739 - val_loss: 0.9970 - val_accuracy: 0.6604\n",
      "Epoch 154/200\n",
      "6/6 [==============================] - 0s 23ms/step - loss: 0.0513 - accuracy: 0.9739 - val_loss: 1.0726 - val_accuracy: 0.6449\n",
      "Epoch 155/200\n",
      "6/6 [==============================] - 0s 24ms/step - loss: 0.0509 - accuracy: 0.9739 - val_loss: 0.9912 - val_accuracy: 0.6542\n",
      "Epoch 156/200\n",
      "6/6 [==============================] - 0s 25ms/step - loss: 0.0510 - accuracy: 0.9739 - val_loss: 1.0718 - val_accuracy: 0.6386\n",
      "Epoch 157/200\n",
      "6/6 [==============================] - 0s 33ms/step - loss: 0.0511 - accuracy: 0.9739 - val_loss: 0.9787 - val_accuracy: 0.6573\n",
      "Epoch 158/200\n",
      "6/6 [==============================] - 0s 23ms/step - loss: 0.0504 - accuracy: 0.9739 - val_loss: 0.9144 - val_accuracy: 0.6791\n",
      "Epoch 159/200\n",
      "6/6 [==============================] - 0s 25ms/step - loss: 0.0502 - accuracy: 0.9724 - val_loss: 0.8806 - val_accuracy: 0.6822\n",
      "Epoch 160/200\n",
      "6/6 [==============================] - 0s 23ms/step - loss: 0.0503 - accuracy: 0.9739 - val_loss: 0.9122 - val_accuracy: 0.6760\n",
      "Epoch 161/200\n",
      "6/6 [==============================] - 0s 22ms/step - loss: 0.0504 - accuracy: 0.9739 - val_loss: 1.0373 - val_accuracy: 0.6449\n",
      "Epoch 162/200\n",
      "6/6 [==============================] - 0s 28ms/step - loss: 0.0517 - accuracy: 0.9739 - val_loss: 1.0002 - val_accuracy: 0.6542\n",
      "Epoch 163/200\n",
      "6/6 [==============================] - 0s 26ms/step - loss: 0.0511 - accuracy: 0.9739 - val_loss: 0.8952 - val_accuracy: 0.6822\n",
      "Epoch 164/200\n",
      "6/6 [==============================] - 0s 25ms/step - loss: 0.0502 - accuracy: 0.9739 - val_loss: 0.7727 - val_accuracy: 0.7134\n",
      "Epoch 165/200\n",
      "6/6 [==============================] - 0s 26ms/step - loss: 0.0501 - accuracy: 0.9739 - val_loss: 0.7294 - val_accuracy: 0.7290\n",
      "Epoch 166/200\n",
      "6/6 [==============================] - 0s 27ms/step - loss: 0.0495 - accuracy: 0.9739 - val_loss: 0.8383 - val_accuracy: 0.6885\n",
      "Epoch 167/200\n",
      "6/6 [==============================] - 0s 30ms/step - loss: 0.0504 - accuracy: 0.9739 - val_loss: 0.8525 - val_accuracy: 0.6885\n",
      "Epoch 168/200\n",
      "6/6 [==============================] - 0s 28ms/step - loss: 0.0506 - accuracy: 0.9739 - val_loss: 0.7846 - val_accuracy: 0.7103\n",
      "Epoch 169/200\n",
      "6/6 [==============================] - 0s 26ms/step - loss: 0.0504 - accuracy: 0.9739 - val_loss: 0.7451 - val_accuracy: 0.7227\n",
      "Epoch 170/200\n",
      "6/6 [==============================] - 0s 28ms/step - loss: 0.0508 - accuracy: 0.9739 - val_loss: 0.8695 - val_accuracy: 0.6885\n",
      "Epoch 171/200\n",
      "6/6 [==============================] - 0s 23ms/step - loss: 0.0513 - accuracy: 0.9739 - val_loss: 0.8036 - val_accuracy: 0.7040\n",
      "Epoch 172/200\n",
      "6/6 [==============================] - 0s 26ms/step - loss: 0.0507 - accuracy: 0.9724 - val_loss: 0.7226 - val_accuracy: 0.7383\n",
      "Epoch 173/200\n",
      "6/6 [==============================] - 0s 30ms/step - loss: 0.0502 - accuracy: 0.9739 - val_loss: 0.6630 - val_accuracy: 0.7664\n",
      "Epoch 174/200\n",
      "6/6 [==============================] - 0s 24ms/step - loss: 0.0505 - accuracy: 0.9724 - val_loss: 0.6782 - val_accuracy: 0.7664\n"
     ]
    },
    {
     "name": "stdout",
     "output_type": "stream",
     "text": [
      "Epoch 175/200\n",
      "6/6 [==============================] - 0s 28ms/step - loss: 0.0507 - accuracy: 0.9739 - val_loss: 0.9559 - val_accuracy: 0.6698\n",
      "Epoch 176/200\n",
      "6/6 [==============================] - 0s 25ms/step - loss: 0.0515 - accuracy: 0.9739 - val_loss: 1.0607 - val_accuracy: 0.6417\n",
      "Epoch 177/200\n",
      "6/6 [==============================] - 0s 26ms/step - loss: 0.0510 - accuracy: 0.9739 - val_loss: 0.9921 - val_accuracy: 0.6636\n",
      "Epoch 178/200\n",
      "6/6 [==============================] - 0s 28ms/step - loss: 0.0506 - accuracy: 0.9739 - val_loss: 0.9308 - val_accuracy: 0.6729\n",
      "Epoch 179/200\n",
      "6/6 [==============================] - 0s 30ms/step - loss: 0.0499 - accuracy: 0.9739 - val_loss: 1.0547 - val_accuracy: 0.6480\n",
      "Epoch 180/200\n",
      "6/6 [==============================] - 0s 25ms/step - loss: 0.0531 - accuracy: 0.9739 - val_loss: 1.2144 - val_accuracy: 0.6293\n",
      "Epoch 181/200\n",
      "6/6 [==============================] - 0s 26ms/step - loss: 0.0549 - accuracy: 0.9739 - val_loss: 1.1895 - val_accuracy: 0.6324\n",
      "Epoch 182/200\n",
      "6/6 [==============================] - 0s 26ms/step - loss: 0.0530 - accuracy: 0.9739 - val_loss: 0.9698 - val_accuracy: 0.6667\n",
      "Epoch 183/200\n",
      "6/6 [==============================] - 0s 24ms/step - loss: 0.0513 - accuracy: 0.9739 - val_loss: 0.7827 - val_accuracy: 0.7072\n",
      "Epoch 184/200\n",
      "6/6 [==============================] - 0s 27ms/step - loss: 0.0500 - accuracy: 0.9739 - val_loss: 0.8001 - val_accuracy: 0.7009\n",
      "Epoch 185/200\n",
      "6/6 [==============================] - 0s 23ms/step - loss: 0.0504 - accuracy: 0.9724 - val_loss: 0.8391 - val_accuracy: 0.6916\n",
      "Epoch 186/200\n",
      "6/6 [==============================] - 0s 24ms/step - loss: 0.0511 - accuracy: 0.9739 - val_loss: 1.0370 - val_accuracy: 0.6480\n",
      "Epoch 187/200\n",
      "6/6 [==============================] - 0s 24ms/step - loss: 0.0520 - accuracy: 0.9739 - val_loss: 0.9888 - val_accuracy: 0.6636\n",
      "Epoch 188/200\n",
      "6/6 [==============================] - 0s 25ms/step - loss: 0.0512 - accuracy: 0.9739 - val_loss: 0.8321 - val_accuracy: 0.6916\n",
      "Epoch 189/200\n",
      "6/6 [==============================] - 0s 27ms/step - loss: 0.0500 - accuracy: 0.9739 - val_loss: 0.6786 - val_accuracy: 0.7570\n",
      "Epoch 190/200\n",
      "6/6 [==============================] - 0s 30ms/step - loss: 0.0501 - accuracy: 0.9739 - val_loss: 0.6476 - val_accuracy: 0.7664\n",
      "Epoch 191/200\n",
      "6/6 [==============================] - 0s 24ms/step - loss: 0.0506 - accuracy: 0.9739 - val_loss: 0.6587 - val_accuracy: 0.7601\n",
      "Epoch 192/200\n",
      "6/6 [==============================] - 0s 25ms/step - loss: 0.0504 - accuracy: 0.9708 - val_loss: 0.6216 - val_accuracy: 0.7944\n",
      "Epoch 193/200\n",
      "6/6 [==============================] - 0s 25ms/step - loss: 0.0507 - accuracy: 0.9724 - val_loss: 0.6512 - val_accuracy: 0.7632\n",
      "Epoch 194/200\n",
      "6/6 [==============================] - 0s 25ms/step - loss: 0.0502 - accuracy: 0.9739 - val_loss: 0.6910 - val_accuracy: 0.7508\n",
      "Epoch 195/200\n",
      "6/6 [==============================] - 0s 27ms/step - loss: 0.0498 - accuracy: 0.9739 - val_loss: 0.7571 - val_accuracy: 0.7259\n",
      "Epoch 196/200\n",
      "6/6 [==============================] - 0s 30ms/step - loss: 0.0498 - accuracy: 0.9739 - val_loss: 0.7714 - val_accuracy: 0.7196\n",
      "Epoch 197/200\n",
      "6/6 [==============================] - 0s 23ms/step - loss: 0.0498 - accuracy: 0.9739 - val_loss: 0.7574 - val_accuracy: 0.7259\n",
      "Epoch 198/200\n",
      "6/6 [==============================] - 0s 25ms/step - loss: 0.0498 - accuracy: 0.9739 - val_loss: 0.7682 - val_accuracy: 0.7196\n",
      "Epoch 199/200\n",
      "6/6 [==============================] - 0s 26ms/step - loss: 0.0497 - accuracy: 0.9739 - val_loss: 0.7546 - val_accuracy: 0.7290\n",
      "Epoch 200/200\n",
      "6/6 [==============================] - 0s 25ms/step - loss: 0.0506 - accuracy: 0.9693 - val_loss: 0.8068 - val_accuracy: 0.6604\n"
     ]
    },
    {
     "data": {
      "text/plain": [
       "<tensorflow.python.keras.callbacks.History at 0x175e538ce88>"
      ]
     },
     "execution_count": 68,
     "metadata": {},
     "output_type": "execute_result"
    }
   ],
   "source": [
    "# train the model\n",
    "nn2 = KerasClassifier(build_fn = build_network, \n",
    "                            epochs = 200,\n",
    "                            batch_size = 128)\n",
    "nn2.fit(X,y, validation_split=0.33)"
   ]
  },
  {
   "cell_type": "markdown",
   "metadata": {},
   "source": [
    "> Make predictions from fitted model."
   ]
  },
  {
   "cell_type": "code",
   "execution_count": 69,
   "metadata": {},
   "outputs": [
    {
     "name": "stdout",
     "output_type": "stream",
     "text": [
      "WARNING:tensorflow:From C:\\Users\\trave\\Anaconda3\\lib\\site-packages\\tensorflow\\python\\keras\\wrappers\\scikit_learn.py:241: Sequential.predict_classes (from tensorflow.python.keras.engine.sequential) is deprecated and will be removed after 2021-01-01.\n",
      "Instructions for updating:\n",
      "Please use instead:* `np.argmax(model.predict(x), axis=-1)`,   if your model does multi-class classification   (e.g. if it uses a `softmax` last-layer activation).* `(model.predict(x) > 0.5).astype(\"int32\")`,   if your model does binary classification   (e.g. if it uses a `sigmoid` last-layer activation).\n"
     ]
    }
   ],
   "source": [
    "# make predictions from fitted model\n",
    "predicts2 = nn2.predict(X)"
   ]
  },
  {
   "cell_type": "markdown",
   "metadata": {},
   "source": [
    "> Return measurement calculations."
   ]
  },
  {
   "cell_type": "code",
   "execution_count": 70,
   "metadata": {},
   "outputs": [
    {
     "name": "stdout",
     "output_type": "stream",
     "text": [
      "Accuracy: 0.867284\n",
      "Precision: 0.876670\n",
      "Recall: 0.892128\n",
      "F1 score: 0.868852\n"
     ]
    }
   ],
   "source": [
    "from sklearn.metrics import accuracy_score \n",
    "from sklearn.metrics import precision_score \n",
    "from sklearn.metrics import recall_score \n",
    "from sklearn.metrics import f1_score \n",
    "from sklearn.metrics import cohen_kappa_score \n",
    "from sklearn.metrics import roc_auc_score \n",
    "from sklearn.metrics import confusion_matrix  \n",
    "\n",
    "# accuracy: (tp + tn) / (p + n) \n",
    "accuracy = accuracy_score(y, predicts2) \n",
    "print('Accuracy: %f' % accuracy) \n",
    "\n",
    "# precision tp / (tp + fp) \n",
    "precision = precision_score(y, predicts2, average = 'macro') \n",
    "print('Precision: %f' % precision) \n",
    "\n",
    "# recall: tp / (tp + fn) \n",
    "recall = recall_score(y, predicts2, average = 'macro') \n",
    "print('Recall: %f' % recall) \n",
    "\n",
    "# f1: 2 tp / (2 tp + fp + fn) \n",
    "f1 = f1_score(y, predicts2, average = 'macro') \n",
    "print('F1 score: %f' % f1)   \n",
    "\n"
   ]
  },
  {
   "cell_type": "markdown",
   "metadata": {},
   "source": [
    ">"
   ]
  },
  {
   "cell_type": "code",
   "execution_count": 71,
   "metadata": {},
   "outputs": [],
   "source": [
    "# confusion matrix \n",
    "matrix2 = confusion_matrix(y, predicts2)"
   ]
  },
  {
   "cell_type": "code",
   "execution_count": 72,
   "metadata": {},
   "outputs": [
    {
     "name": "stdout",
     "output_type": "stream",
     "text": [
      "[[ 30   5   0]\n",
      " [  0 251   0]\n",
      " [  1 123 562]]\n"
     ]
    }
   ],
   "source": [
    "# print confusion matrix\n",
    "print(matrix2)"
   ]
  }
 ],
 "metadata": {
  "kernelspec": {
   "display_name": "Python 3",
   "language": "python",
   "name": "python3"
  },
  "language_info": {
   "codemirror_mode": {
    "name": "ipython",
    "version": 3
   },
   "file_extension": ".py",
   "mimetype": "text/x-python",
   "name": "python",
   "nbconvert_exporter": "python",
   "pygments_lexer": "ipython3",
   "version": "3.7.4"
  }
 },
 "nbformat": 4,
 "nbformat_minor": 4
}
